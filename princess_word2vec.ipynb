{
  "nbformat": 4,
  "nbformat_minor": 0,
  "metadata": {
    "colab": {
      "name": "princess_word2vec.ipynb",
      "provenance": []
    },
    "kernelspec": {
      "name": "python3",
      "display_name": "Python 3"
    },
    "language_info": {
      "name": "python"
    }
  },
  "cells": [
    {
      "cell_type": "code",
      "source": [
        "!pip install gensim\n",
        "import gensim \n",
        "from gensim.models import Word2Vec"
      ],
      "metadata": {
        "colab": {
          "base_uri": "https://localhost:8080/"
        },
        "id": "6t8vDSsQsyYr",
        "outputId": "b3db90f1-1ac8-404d-df57-9e6a155fdf97"
      },
      "execution_count": 1,
      "outputs": [
        {
          "output_type": "stream",
          "name": "stdout",
          "text": [
            "Requirement already satisfied: gensim in /usr/local/lib/python3.7/dist-packages (3.6.0)\n",
            "Requirement already satisfied: numpy>=1.11.3 in /usr/local/lib/python3.7/dist-packages (from gensim) (1.19.5)\n",
            "Requirement already satisfied: six>=1.5.0 in /usr/local/lib/python3.7/dist-packages (from gensim) (1.15.0)\n",
            "Requirement already satisfied: scipy>=0.18.1 in /usr/local/lib/python3.7/dist-packages (from gensim) (1.4.1)\n",
            "Requirement already satisfied: smart-open>=1.2.1 in /usr/local/lib/python3.7/dist-packages (from gensim) (5.2.1)\n"
          ]
        }
      ]
    },
    {
      "cell_type": "code",
      "source": [
        "text_file = \"disney_fandom.txt\"\n",
        "# read all lines at once\n",
        "with open(text_file, 'rb') as f:\n",
        "    lines = f.readlines()\n",
        "print(lines[2])"
      ],
      "metadata": {
        "colab": {
          "base_uri": "https://localhost:8080/"
        },
        "id": "C6b7e49fsyVZ",
        "outputId": "914e7a33-00bc-487e-d7bc-17ac63eb0c43"
      },
      "execution_count": 3,
      "outputs": [
        {
          "output_type": "stream",
          "name": "stdout",
          "text": [
            "b'The franchise currently comprises of twelve female protagonists from eleven different Walt Disney Animation Studios films and one Pixar film, who are either royal by birth, royal by marriage, or considered a \"princess\" due to their significant portrayal of heroism in their respective films.\\r\\n'\n"
          ]
        }
      ]
    },
    {
      "cell_type": "code",
      "source": [
        "# process sentences to tokens\n",
        "processedLines = [gensim.utils.simple_preprocess(sentence) for sentence in lines]\n",
        "#create word list from token using utf8 encoding\n",
        "word_list = [word for words in processedLines for word in words]\n",
        "#check the length of the list\n",
        "print('Length: ', len(word_list))\n",
        "#check first five words\n",
        "print(word_list[:5])"
      ],
      "metadata": {
        "colab": {
          "base_uri": "https://localhost:8080/"
        },
        "id": "w-gIqVQGsySc",
        "outputId": "49cc7821-b33d-43c5-9133-646c04208a3f"
      },
      "execution_count": 5,
      "outputs": [
        {
          "output_type": "stream",
          "name": "stdout",
          "text": [
            "Length:  25280\n",
            "['disney', 'princess', 'disney', 'princess', 'is']\n"
          ]
        }
      ]
    },
    {
      "cell_type": "code",
      "source": [
        "#CBOW\n",
        "model_file_cbow = gensim.models.Word2Vec([word_list], size=100, window=10, min_count=3,sg=0)\n",
        "model_file_cbow.train([word_list], total_words=len([word_list]),epochs=20)\n",
        "model_file_cbow.save(\"model_file_cbow.model\")\n",
        "# Store just the words + their trained embeddings.\n",
        "word_vectors = model_file_cbow.wv\n",
        "word_vectors.save(\"model_file_cbow.wordvectors\")"
      ],
      "metadata": {
        "id": "8V4x3GUFNmR2"
      },
      "execution_count": 6,
      "outputs": []
    },
    {
      "cell_type": "code",
      "source": [
        "#SG\n",
        "model_file_sg = gensim.models.Word2Vec([word_list], size=100, window=10, min_count=3,sg=1)\n",
        "model_file_sg.train([word_list], total_words=len([word_list]),epochs=20)\n",
        "model_file_sg.save(\"model_file_sg.model\")\n",
        "# Store just the words + their trained embeddings.\n",
        "word_vectors = model_file_sg.wv\n",
        "word_vectors.save(\"model_file_sg.wordvectors\")"
      ],
      "metadata": {
        "id": "DOxZoUa3N5_e"
      },
      "execution_count": 7,
      "outputs": []
    },
    {
      "cell_type": "code",
      "source": [
        "model_file_sg.wv.most_similar([\"mirror\", \"dwarfs\", \"yellow\", \"cottage\"])"
      ],
      "metadata": {
        "colab": {
          "base_uri": "https://localhost:8080/"
        },
        "id": "sLx2ligQR5Fn",
        "outputId": "bb24dad4-9e76-4b01-e2e3-ca9ac834ba10"
      },
      "execution_count": 8,
      "outputs": [
        {
          "output_type": "execute_result",
          "data": {
            "text/plain": [
              "[('influence', 0.9131067991256714),\n",
              " ('crone', 0.8922656178474426),\n",
              " ('seven', 0.8914382457733154),\n",
              " ('lies', 0.881149411201477),\n",
              " ('music', 0.8794296383857727),\n",
              " ('actresses', 0.8559929728507996),\n",
              " ('grasset', 0.8541040420532227),\n",
              " ('eugene', 0.8478988409042358),\n",
              " ('scullery', 0.8449336886405945),\n",
              " ('scene', 0.842210054397583)]"
            ]
          },
          "metadata": {},
          "execution_count": 8
        }
      ]
    },
    {
      "cell_type": "code",
      "source": [
        "model_file_sg.predict_output_word([\"sea\", \"mermaid\", \"prince\", \"storm\"])\n",
        "#model_file_sg.predict_output_word([ \"ariel\"])"
      ],
      "metadata": {
        "colab": {
          "base_uri": "https://localhost:8080/"
        },
        "id": "8gUjcRhRSlku",
        "outputId": "804ae57a-e1fe-49cd-9d3f-99088fe7f50f"
      },
      "execution_count": 10,
      "outputs": [
        {
          "output_type": "execute_result",
          "data": {
            "text/plain": [
              "[('mermaid', 0.028503325),\n",
              " ('sea', 0.024395093),\n",
              " ('eric', 0.013467282),\n",
              " ('ariel', 0.011815371),\n",
              " ('little', 0.010619111),\n",
              " ('demonstrated', 0.008117071),\n",
              " ('foam', 0.007450725),\n",
              " ('andersen', 0.0065510543),\n",
              " ('tv', 0.006115374),\n",
              " ('prequel', 0.0060504125)]"
            ]
          },
          "metadata": {},
          "execution_count": 10
        }
      ]
    },
    {
      "cell_type": "code",
      "source": [
        "#model_file_cbow.predict_output_word([ \"blue\", \"yellow\", \"prince\", \"dwarfs\"])\n",
        "model_file_cbow.predict_output_word([\"mermaid\"])"
      ],
      "metadata": {
        "colab": {
          "base_uri": "https://localhost:8080/"
        },
        "id": "E6K5vxTbSx0Y",
        "outputId": "dca63cd1-924e-4068-f6a1-50550aeb4891"
      },
      "execution_count": 11,
      "outputs": [
        {
          "output_type": "execute_result",
          "data": {
            "text/plain": [
              "[('jasmine', 0.0040359455),\n",
              " ('aladdin', 0.0037966908),\n",
              " ('belle', 0.0034078793),\n",
              " ('beast', 0.0032628982),\n",
              " ('ariel', 0.002893415),\n",
              " ('human', 0.0027033694),\n",
              " ('love', 0.0025183687),\n",
              " ('his', 0.002369605),\n",
              " ('mermaid', 0.0022742713),\n",
              " ('he', 0.0021608542)]"
            ]
          },
          "metadata": {},
          "execution_count": 11
        }
      ]
    },
    {
      "cell_type": "code",
      "source": [
        "model_file_cbow.wv[\"ariel\",\"belle\"]"
      ],
      "metadata": {
        "colab": {
          "base_uri": "https://localhost:8080/"
        },
        "id": "UL3qkQ2vWCOq",
        "outputId": "23ece935-7559-4e4b-ae2c-cd0050a73f79"
      },
      "execution_count": 12,
      "outputs": [
        {
          "output_type": "execute_result",
          "data": {
            "text/plain": [
              "array([[-1.0334158 , -0.35900867,  0.04832653, -0.01086275,  0.2895872 ,\n",
              "         0.43492183, -0.7706192 , -0.04092323, -0.02613864, -0.2586363 ,\n",
              "         0.5236771 ,  0.11459124, -0.07240096, -0.16168249,  0.48101395,\n",
              "         0.10454061,  0.44385827, -0.7323691 ,  1.0384973 ,  0.03458422,\n",
              "         0.17944935, -0.55049235,  0.13002771, -0.46984276,  0.45343673,\n",
              "        -0.843707  ,  0.7201383 ,  0.2512061 ,  0.20988324, -0.42754072,\n",
              "        -0.71677876,  0.15864894,  0.29726142,  0.4121993 , -0.60507745,\n",
              "        -0.93556505,  0.37061927, -0.4559391 ,  0.14537038, -0.7444972 ,\n",
              "        -0.92269427, -0.0059147 , -0.515647  , -0.5541741 ,  0.14296679,\n",
              "        -0.46971908, -0.27311674,  0.37709385, -0.17230262,  1.223437  ,\n",
              "         0.8221571 ,  0.16124262, -0.6863345 , -0.5672936 ,  0.21536979,\n",
              "        -0.04473016, -0.4096607 ,  0.05651565, -0.00612445, -0.32069513,\n",
              "        -0.10162017,  0.42849916,  0.3277368 ,  0.46478066, -0.36569396,\n",
              "        -0.06033947,  0.12131969, -0.32001156,  0.42624745,  0.16965091,\n",
              "        -0.32026213, -0.48936963,  0.05971994, -0.12238774, -0.07622708,\n",
              "         0.31814155,  0.18739787, -0.04151722, -0.05981077, -0.61183697,\n",
              "         0.22957525,  0.16212824,  0.39488885, -0.596358  , -0.02764158,\n",
              "        -0.01220661, -0.38971335, -0.37715188, -0.23517168,  0.08657513,\n",
              "        -0.83743536,  0.07263897, -0.34322938, -0.22704035,  0.02070966,\n",
              "         0.31552854, -0.3160161 ,  0.8545874 , -0.10869704, -0.56395906],\n",
              "       [-1.173509  , -0.15020739,  0.1404169 , -0.05152433,  0.25319296,\n",
              "         0.40892604, -0.59241694, -0.16906215,  0.11314832, -0.09766746,\n",
              "         0.50756854,  0.24868658,  0.08078423, -0.11121296,  0.4942209 ,\n",
              "         0.11529054,  0.3865348 , -0.74648917,  1.0634956 , -0.03633614,\n",
              "         0.16427301, -0.61132425,  0.07309563, -0.4313383 ,  0.56239647,\n",
              "        -0.7862917 ,  0.7537071 ,  0.06769146,  0.2851187 , -0.34949714,\n",
              "        -0.5767519 ,  0.20060247,  0.26236138,  0.47165942, -0.54949474,\n",
              "        -0.5906691 ,  0.20330466, -0.37453485,  0.3099887 , -0.67187446,\n",
              "        -1.0661551 ,  0.12664261, -0.2781153 , -0.47978392,  0.12109289,\n",
              "        -0.43037638, -0.24562158,  0.24489643, -0.21865629,  0.93847674,\n",
              "         0.6643952 ,  0.27844957, -0.6112799 , -0.41337413, -0.0534744 ,\n",
              "        -0.00424155, -0.40591288, -0.02964213, -0.28322232, -0.2836981 ,\n",
              "        -0.2363255 ,  0.41031978,  0.2666257 ,  0.5218502 , -0.3748759 ,\n",
              "         0.05764656,  0.15149377, -0.13305873,  0.4767364 ,  0.02774777,\n",
              "        -0.24276178, -0.5330704 , -0.08090268, -0.2252862 , -0.28922898,\n",
              "         0.15263043,  0.2592998 ,  0.0364731 , -0.29569778, -0.47750208,\n",
              "         0.48625135,  0.35163122,  0.3260273 , -0.6245853 ,  0.10379681,\n",
              "        -0.06819009, -0.17661889, -0.24475536, -0.06018813,  0.25844178,\n",
              "        -0.867835  ,  0.05965854, -0.53202254, -0.24251042,  0.19207838,\n",
              "         0.30172482, -0.3031288 ,  0.9940547 , -0.26881096, -0.41676545]],\n",
              "      dtype=float32)"
            ]
          },
          "metadata": {},
          "execution_count": 12
        }
      ]
    },
    {
      "cell_type": "code",
      "source": [
        "model_file_cbow.wv.n_similarity([\"flounder\", \"rajah\", \"chip\", \"angus\"], [\"belle\"])"
      ],
      "metadata": {
        "colab": {
          "base_uri": "https://localhost:8080/"
        },
        "id": "qPYOhdIzdL61",
        "outputId": "314deaf5-8818-49ed-dd86-aaa9f39f61e0"
      },
      "execution_count": 43,
      "outputs": [
        {
          "output_type": "execute_result",
          "data": {
            "text/plain": [
              "0.9841968"
            ]
          },
          "metadata": {},
          "execution_count": 43
        }
      ]
    },
    {
      "cell_type": "code",
      "source": [
        "model_file_cbow.wv.n_similarity([\"sea\",\"prince\",\"love\"], [\"ariel\"])"
      ],
      "metadata": {
        "colab": {
          "base_uri": "https://localhost:8080/"
        },
        "id": "pC9H21XIdNh_",
        "outputId": "af59c12d-10d6-464c-a8b0-4e95aeb42e9e"
      },
      "execution_count": 44,
      "outputs": [
        {
          "output_type": "execute_result",
          "data": {
            "text/plain": [
              "0.9545624"
            ]
          },
          "metadata": {},
          "execution_count": 44
        }
      ]
    },
    {
      "cell_type": "code",
      "source": [
        ""
      ],
      "metadata": {
        "id": "PGF33rNedLyM"
      },
      "execution_count": null,
      "outputs": []
    }
  ]
}